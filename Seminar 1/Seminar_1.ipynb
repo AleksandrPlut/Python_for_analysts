{
  "cells": [
    {
      "cell_type": "markdown",
      "metadata": {},
      "source": [
        "<h2>Занятие 1</h2>"
      ]
    },
    {
      "cell_type": "markdown",
      "metadata": {},
      "source": [
        "<h4>Задание 1.1</h4>"
      ]
    },
    {
      "cell_type": "code",
      "execution_count": 1,
      "metadata": {
        "trusted": true
      },
      "outputs": [
        {
          "data": {
            "text/plain": [
              "{'One': 1, 'Two': 2, 'Three': 3, 'Four': 4, 'Five': 5, 'Six': 6}"
            ]
          },
          "execution_count": 1,
          "metadata": {},
          "output_type": "execute_result"
        }
      ],
      "source": [
        "dict1 = {'One': 1, 'Two': 2, 'Three': 3}\n",
        "dict2 = {'Four': 4, 'Five': 5, 'Six': 6}\n",
        "dict1.update(dict2)\n",
        "dict1"
      ]
    },
    {
      "cell_type": "markdown",
      "metadata": {},
      "source": [
        "<h4>Задание 1.2</h4>"
      ]
    },
    {
      "cell_type": "markdown",
      "metadata": {},
      "source": [
        "Напишите функцию, которая на вход принимает два словаря и возврщает объединенных словарь. Используйте аннотирование типов"
      ]
    },
    {
      "cell_type": "code",
      "execution_count": 2,
      "metadata": {
        "trusted": true
      },
      "outputs": [
        {
          "data": {
            "text/plain": [
              "{'One': 1, 'Two': 2, 'Three': 3, 'Four': 4, 'Five': 5, 'Six': 6}"
            ]
          },
          "execution_count": 2,
          "metadata": {},
          "output_type": "execute_result"
        }
      ],
      "source": [
        "def unite_dict(dictionary1: dict, dictionary2:dict) -> dict:\n",
        "    return {**dictionary1, **dictionary2}\n",
        "unite_dict(dict1,dict2)"
      ]
    },
    {
      "cell_type": "markdown",
      "metadata": {},
      "source": [
        "<h4>Задание 2</h4>"
      ]
    },
    {
      "cell_type": "markdown",
      "metadata": {},
      "source": [
        "Напишите функцию, которая из двух списков, делает один словарь, где элементы из первого списка - ключи, а элементы из второго списка - значения"
      ]
    },
    {
      "cell_type": "code",
      "execution_count": 3,
      "metadata": {
        "trusted": true
      },
      "outputs": [
        {
          "data": {
            "text/plain": [
              "{'One': 1, 'Two': 2, 'Three': 3}"
            ]
          },
          "execution_count": 3,
          "metadata": {},
          "output_type": "execute_result"
        }
      ],
      "source": [
        "keys = ['One', 'Two', 'Three']\n",
        "values = [1, 2, 3]\n",
        "def dict(list1: list, list2: list) -> dict:\n",
        "    new_dict = {}\n",
        "    for i in range(len(list1)):\n",
        "                   new_dict.setdefault(list1[i], list2[i])\n",
        "    return new_dict\n",
        "dict(keys, values)"
      ]
    },
    {
      "cell_type": "markdown",
      "metadata": {},
      "source": [
        "<h4>Задание 2.2</h4>"
      ]
    },
    {
      "cell_type": "markdown",
      "metadata": {},
      "source": [
        "Используя dict comprehensions"
      ]
    },
    {
      "cell_type": "code",
      "execution_count": 4,
      "metadata": {
        "trusted": true
      },
      "outputs": [
        {
          "data": {
            "text/plain": [
              "{'One': 1, 'Two': 2, 'Three': 3}"
            ]
          },
          "execution_count": 4,
          "metadata": {},
          "output_type": "execute_result"
        }
      ],
      "source": [
        "keys = ['One', 'Two', 'Three']\n",
        "values = [1, 2, 3]\n",
        "dict = {keys[i]: values[i] for i in range(len(keys))}\n",
        "dict"
      ]
    },
    {
      "cell_type": "markdown",
      "metadata": {},
      "source": [
        "<h4>Задание 3</h4>"
      ]
    },
    {
      "cell_type": "markdown",
      "metadata": {},
      "source": [
        "Извлеките только два ключа name и age из представленного словаря"
      ]
    },
    {
      "cell_type": "markdown",
      "metadata": {},
      "source": [
        "3.1 Напишите функцию с циклом for \n",
        "Функция на вход принимает:\n",
        "исходный словарь\n",
        "ключи, которые нужно извлечь (аргумент по умолчанию)\n",
        "На выходе словарь с нужными ключами\n",
        "Используйте аннотирование типов"
      ]
    },
    {
      "cell_type": "code",
      "execution_count": 5,
      "metadata": {
        "trusted": true
      },
      "outputs": [
        {
          "data": {
            "text/plain": [
              "{'name': 'John', 'age': 25}"
            ]
          },
          "execution_count": 5,
          "metadata": {},
          "output_type": "execute_result"
        }
      ],
      "source": [
        "client_dict = {\n",
        "\t\"name\": \"John\",\n",
        "\t\"age\": 25,\n",
        "\t\"salary\": 5000,\n",
        "\t\"city\": \"Moscow\"\n",
        "}\n",
        "def output_keys(dictionary: dict, keys=[\"name\", \"age\"]) -> dict:\n",
        "    output_dict = {}\n",
        "    for key in keys:\n",
        "        output_dict.setdefault(key, dictionary[key])\n",
        "    return output_dict\n",
        "output_keys(client_dict)"
      ]
    },
    {
      "cell_type": "markdown",
      "metadata": {},
      "source": [
        "3.2 Используя dict comprehensions"
      ]
    },
    {
      "cell_type": "code",
      "execution_count": 6,
      "metadata": {
        "trusted": true
      },
      "outputs": [
        {
          "data": {
            "text/plain": [
              "{'name': 'John', 'age': 25}"
            ]
          },
          "execution_count": 6,
          "metadata": {},
          "output_type": "execute_result"
        }
      ],
      "source": [
        "output_keys= {key:client_dict[key] for key in ['name','age']}\n",
        "output_keys"
      ]
    },
    {
      "cell_type": "markdown",
      "metadata": {},
      "source": [
        "## Задание 4.\n",
        "### 4.1. Сгенерируйте случайные целые числа от 0 до 100 в количестве 5 штук с помощью модуля random\n",
        "Зафиксируйте псевдогенерацию, чтобы сгенерированные значения всегда были одинаковые\n",
        "Используйте list comprehensions"
      ]
    },
    {
      "cell_type": "code",
      "execution_count": 7,
      "metadata": {
        "trusted": true
      },
      "outputs": [],
      "source": [
        "import random"
      ]
    },
    {
      "cell_type": "code",
      "execution_count": 8,
      "metadata": {
        "trusted": true
      },
      "outputs": [
        {
          "data": {
            "text/plain": [
              "[0, 1, 2, 3, 4]"
            ]
          },
          "execution_count": 8,
          "metadata": {},
          "output_type": "execute_result"
        }
      ],
      "source": [
        "list1 = [i for i in range(5)]\n",
        "list1"
      ]
    },
    {
      "cell_type": "code",
      "execution_count": 13,
      "metadata": {
        "trusted": true
      },
      "outputs": [
        {
          "data": {
            "text/plain": [
              "[0.5338834586869957,\n",
              " 0.3912540685000795,\n",
              " 0.0031237790192196746,\n",
              " 0.38661220119656925,\n",
              " 0.5502027047403593]"
            ]
          },
          "execution_count": 13,
          "metadata": {},
          "output_type": "execute_result"
        }
      ],
      "source": [
        "list1 = [random.random() for i in range(5)]\n",
        "list1"
      ]
    },
    {
      "cell_type": "code",
      "execution_count": 9,
      "metadata": {
        "trusted": true
      },
      "outputs": [
        {
          "data": {
            "text/plain": [
              "[60, 79, 48, 35, 18]"
            ]
          },
          "execution_count": 9,
          "metadata": {},
          "output_type": "execute_result"
        }
      ],
      "source": [
        "random.seed(9)\n",
        "list1 = [random.randint(1, 100) for i in range(5)]\n",
        "list1"
      ]
    },
    {
      "cell_type": "markdown",
      "metadata": {},
      "source": [
        "#### 4.2* Напишите генератор\n",
        "Генератор на вход принимает список с данными о клиенте (данные из пункта 4.1)\n",
        "Внутри генератора реализуйте обход по списку с данными\n",
        "\n",
        "На каждой итерации генератор будет возвращать кортеж из двух элементов:\n",
        "данные по клиенту (в зависимости от итерации, на 0 итерации вернется 0 элемент, на 1 итерации вернется 1 элемент и тд)\n",
        "целочисленное значение, которое показывает, сколько секунд прошло с предыдущей итерации\n",
        "\n",
        "Примечание: секунды, которые возвращаются должны показывать время не с начала запуска генератора, а именно то время, которое прошло с предыдущей итерации. А значит время на первой итерации должно равняться 0.\n",
        "Используйте функцию time из модуля time для подсчета времени.\n",
        "Чтобы проверить работу таймера, запустите проход по генератору в цикле с time.sleep(2)"
      ]
    },
    {
      "cell_type": "code",
      "execution_count": 15,
      "metadata": {
        "trusted": true
      },
      "outputs": [],
      "source": [
        "import time"
      ]
    },
    {
      "cell_type": "code",
      "execution_count": 17,
      "metadata": {
        "trusted": true
      },
      "outputs": [
        {
          "name": "stdout",
          "output_type": "stream",
          "text": [
            "60\n",
            "79\n",
            "48\n",
            "35\n",
            "18\n"
          ]
        }
      ],
      "source": [
        "def client_time(my_list: list) -> tuple:\n",
        "    for elem in my_list:\n",
        "        yield elem \n",
        "\n",
        "for item in client_time(list1):\n",
        "    print(item)"
      ]
    },
    {
      "cell_type": "code",
      "execution_count": 19,
      "metadata": {
        "trusted": true
      },
      "outputs": [
        {
          "name": "stdout",
          "output_type": "stream",
          "text": [
            "(60, 0.0)\n",
            "(79, 1.0)\n",
            "(48, 1.0)\n",
            "(35, 1.0)\n",
            "(18, 1.0)\n"
          ]
        }
      ],
      "source": [
        "def client_time(my_list: list) -> tuple:\n",
        "    last_time = time.time()\n",
        "    for elem in my_list:\n",
        "        clock_elem = time.time()\n",
        "        yield elem, round(clock_elem - last_time, 0)\n",
        "        last_time = clock_elem\n",
        "\n",
        "for item in client_time(list1):\n",
        "    print(item)\n",
        "    time.sleep(1)"
      ]
    },
    {
      "cell_type": "markdown",
      "metadata": {},
      "source": [
        "## Задание 5.\n",
        "### 5.1 Найдите картинку в интернете и прикрепите её в ячейку с текстом"
      ]
    },
    {
      "attachments": {},
      "cell_type": "markdown",
      "metadata": {},
      "source": [
        "<img src=https://www.imgonline.com.ua/examples/bee-on-daisy-mini.jpg width=500>"
      ]
    },
    {
      "cell_type": "markdown",
      "metadata": {},
      "source": [
        "#### 5.2 Создайте следующую таблицу в ячейке с текстом"
      ]
    },
    {
      "cell_type": "markdown",
      "metadata": {},
      "source": [
        "<table>\n",
        "    <tr>\n",
        "        <td> </td>\n",
        "        <td>До события</td>\n",
        "        <td>Во время события</td>\n",
        "    </tr>\n",
        "    <tr>\n",
        "        <td>1 контрольная точка</td>\n",
        "        <td>250</td>\n",
        "        <td>500</td>\n",
        "    </tr>\n",
        "    <tr>\n",
        "        <td>2 контрольная точка</td>\n",
        "        <td>350</td>\n",
        "        <td>700</td>\n",
        "    </tr>\n",
        "    <tr>\n",
        "        <td>3 контрольная точка</td>\n",
        "        <td>400</td>\n",
        "        <td>800</td>\n",
        "    </tr>\n",
        "    <tr>\n",
        "        <td>Итого за победу</td>\n",
        "        <td>1000</td>\n",
        "        <td>2000</td>\n",
        "    </tr>\n",
        "</table>"
      ]
    },
    {
      "cell_type": "markdown",
      "metadata": {},
      "source": [
        "## Задание 6.\n",
        "Напишите функцию, которая может принимать любое количество трат пользователя и считать сумму и среднее.\n",
        "\n",
        "На вход поступают целочисленные значения в любом количестве\n",
        "\n",
        "\n",
        "На выходе словарь с ключами суммы трат и средней траты"
      ]
    },
    {
      "cell_type": "code",
      "execution_count": 20,
      "metadata": {
        "trusted": true
      },
      "outputs": [
        {
          "name": "stdout",
          "output_type": "stream",
          "text": [
            "(34, 56, 7, 59, 90, 100)\n"
          ]
        },
        {
          "data": {
            "text/plain": [
              "{'Сумма трат': 346, 'Средние траты': 57.67}"
            ]
          },
          "execution_count": 20,
          "metadata": {},
          "output_type": "execute_result"
        }
      ],
      "source": [
        "def client_costs(*costs):\n",
        "    print(costs)\n",
        "    return {\"Сумма трат\": sum(costs), \"Средние траты\": round(sum(costs)/len(costs), 2)}\n",
        "client_costs(34, 56, 7, 59, 90, 100)"
      ]
    },
    {
      "cell_type": "code",
      "execution_count": null,
      "metadata": {},
      "outputs": [],
      "source": []
    }
  ],
  "metadata": {
    "kernelspec": {
      "display_name": "Python 3",
      "language": "python",
      "name": "python3"
    },
    "language_info": {
      "codemirror_mode": {
        "name": "ipython",
        "version": 3
      },
      "file_extension": ".py",
      "mimetype": "text/x-python",
      "name": "python",
      "nbconvert_exporter": "python",
      "pygments_lexer": "ipython3",
      "version": "3.11.1"
    }
  },
  "nbformat": 4,
  "nbformat_minor": 4
}
